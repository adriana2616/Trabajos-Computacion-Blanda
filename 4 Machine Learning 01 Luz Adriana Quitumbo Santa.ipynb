{
 "cells": [
  {
   "cell_type": "code",
   "execution_count": 6,
   "metadata": {},
   "outputs": [
    {
     "name": "stdout",
     "output_type": "stream",
     "text": [
      "Arreglo a = [0 1 2 3 4 5] \n",
      "\n",
      "Tipo de a = int32 \n",
      "\n",
      "Dimensión de a = 1 \n",
      "\n",
      "Número de elementos de a = (6,)\n"
     ]
    }
   ],
   "source": [
    "# primero se importa la librería numpy\n",
    "\n",
    "import numpy as np\n",
    "\n",
    "# luego Se crea una array con 6 elementos\n",
    "\n",
    "a = np.arange(6)\n",
    "\n",
    "# Se imprime en pantalla el contenido del array a\n",
    "print('Arreglo a =', a, '\\n')\n",
    "\n",
    "# Se muestra el tipo de los elementos del array\n",
    "print('Tipo de a =', a.dtype, '\\n')\n",
    "\n",
    "# Se calcula la dimensión del array a, en este caso dimensión = 1 (vector)\n",
    "print('Dimensión de a =', a.ndim, '\\n')\n",
    "\n",
    "# Se calcula el número de elementos del array a\n",
    "# No olvidar que existe un elemento con índice 0\n",
    "print('Número de elementos de a =', a.shape)\n"
   ]
  },
  {
   "cell_type": "code",
   "execution_count": 3,
   "metadata": {},
   "outputs": [
    {
     "name": "stdout",
     "output_type": "stream",
     "text": [
      "[[0 1]\n",
      " [0 1]]\n"
     ]
    }
   ],
   "source": [
    "# Creando un arreglo multidimensional\n",
    "# La matriz se crea con la función: array\n",
    "\n",
    "m = np.array([np.arange(2), np.arange(2)])\n",
    "print(m)\n"
   ]
  },
  {
   "cell_type": "code",
   "execution_count": 7,
   "metadata": {},
   "outputs": [
    {
     "name": "stdout",
     "output_type": "stream",
     "text": [
      "a =\n",
      " [[1 2]\n",
      " [3 4]] \n",
      "\n",
      "a[0,0] = 1 \n",
      "\n",
      "a[0,1] = 2 \n",
      "\n",
      "a[1,0] = 3 \n",
      "\n",
      "a[1,1] = 4\n"
     ]
    }
   ],
   "source": [
    "# Seleccionando elementos de un array\n",
    "\n",
    "a = np.array([[1,2], [3,4]])\n",
    "\n",
    "print('a =\\n', a, '\\n')\n",
    "# Elementos individuales\n",
    "\n",
    "print('a[0,0] =', a[0,0], '\\n')\n",
    "print('a[0,1] =', a[0,1], '\\n')\n",
    "print('a[1,0] =', a[1,0], '\\n')\n",
    "print('a[1,1] =', a[1,1])"
   ]
  },
  {
   "cell_type": "code",
   "execution_count": 11,
   "metadata": {},
   "outputs": [
    {
     "name": "stdout",
     "output_type": "stream",
     "text": [
      "a = [0 1 2 3 4 5 6 7] \n",
      "\n",
      "a[0:8] =  [0 1 2 3 4 5 6 7] \n",
      "\n",
      "a[2,6] = [2 3 4 5]\n"
     ]
    }
   ],
   "source": [
    "# Crea un array con 8 elementos, desde 0 hasta 7\n",
    "\n",
    "a = np.arange(8)\n",
    "print('a =', a, '\\n')\n",
    "\n",
    "# Muestra los elementos desde 0 hasta 9. Imprime desde 0 hasta 7\n",
    "print('a[0:8] = ', a[0:8], '\\n')\n",
    "\n",
    "# Muestra desde 2 hasta 6. Imprime desde 2 hasta 5\n",
    "print('a[2,6] =', a[2:6])\n"
   ]
  },
  {
   "cell_type": "code",
   "execution_count": 10,
   "metadata": {},
   "outputs": [
    {
     "name": "stdout",
     "output_type": "stream",
     "text": [
      "a[0:8:1] = [0 1 2 3 4 5 6 7] \n",
      "\n",
      "a[:8:1] = [0 1 2 3 4 5 6 7] \n",
      "\n",
      "a[0:8:2] = [0 2 4 6] \n",
      "\n",
      "a[0:8:3] = [0 3 6]\n"
     ]
    }
   ],
   "source": [
    "# Mostrando todos los elementos, desde el 0 hasta el 7, de uno en uno\n",
    "print('a[0:8:1] =', a[0:8:1], '\\n')\n",
    "\n",
    "# El mismo ejemplo, pero omitiendo el número 0 al principio, el cual no es nec\n",
    "#esario aquí\n",
    "print('a[:8:1] =', a[:8:1], '\\n')\n",
    "\n",
    "# Mostrando los números, de dos en dos\n",
    "print('a[0:8:2] =', a[0:8:2], '\\n')\n",
    "\n",
    "# Mostrando los números, de tres en tres\n",
    "print('a[0:8:3] =', a[0:8:3])\n",
    "\n"
   ]
  },
  {
   "cell_type": "code",
   "execution_count": 12,
   "metadata": {},
   "outputs": [
    {
     "name": "stdout",
     "output_type": "stream",
     "text": [
      "a[8:0:-1] = [7 6 5 4 3 2 1] \n",
      "\n",
      "a[::-1] = [7 6 5 4 3 2 1 0]\n"
     ]
    }
   ],
   "source": [
    "# Si utilizamos un incremento negativo, el array se muestra en orden inverso\n",
    "# El problema es que no muestra el valor 0\n",
    "print('a[8:0:-1] =', a[8:0:-1], '\\n')\n",
    "\n",
    "# Si se omiten los valores de índice, el resultado es preciso\n",
    "print('a[::-1] =', a[::-1])"
   ]
  },
  {
   "cell_type": "code",
   "execution_count": 15,
   "metadata": {},
   "outputs": [
    {
     "name": "stdout",
     "output_type": "stream",
     "text": [
      "b =\n",
      " [[[ 0  1  2  3]\n",
      "  [ 4  5  6  7]\n",
      "  [ 8  9 10 11]]\n",
      "\n",
      " [[12 13 14 15]\n",
      "  [16 17 18 19]\n",
      "  [20 21 22 23]]]\n"
     ]
    }
   ],
   "source": [
    "# Utilización de arreglos multidimensionales\n",
    "b = np.arange(24).reshape(2,3,4)\n",
    "print('b =\\n', b)\n",
    "# La instrucción reshape genera una matriz con 2 bloques, 3 filas y 4 columnas\n",
    "# El número total de elementos es de 24 (generados por arange)\n"
   ]
  },
  {
   "cell_type": "code",
   "execution_count": 16,
   "metadata": {},
   "outputs": [
    {
     "name": "stdout",
     "output_type": "stream",
     "text": [
      "b[1,2,3] = 23 \n",
      "\n",
      "b[0,2,2] = 10 \n",
      "\n"
     ]
    }
   ],
   "source": [
    "# Acceso individual a los elementos del array\n",
    "# Elemento en el bloque 1, fila 2, columna 3\n",
    "print('b[1,2,3] =', b[1,2,3], '\\n')\n",
    "\n",
    "# Elemento en el bloque 0, fila 2, columna 2\n",
    "print('b[0,2,2] =', b[0,2,2], '\\n')\n",
    "# Elemento en el bloque 0, fila "
   ]
  },
  {
   "cell_type": "code",
   "execution_count": 19,
   "metadata": {},
   "outputs": [
    {
     "name": "stdout",
     "output_type": "stream",
     "text": [
      "b[0,0,0] = 0 \n",
      "\n",
      "b[1,0,0] = 12 \n",
      "\n",
      "b[:,0,0] = [ 0 12]\n"
     ]
    }
   ],
   "source": [
    "# Mostraremos como generalizar una selección\n",
    "# Primero elegimos el componente en la fila 0, columna 0, del bloque 0\n",
    "print('b[0,0,0] =', b[0,0,0], '\\n')\n",
    "\n",
    "# A continuación, elegimos el componente en la fila 0, columna, pero del bloque 1\n",
    "print('b[1,0,0] =', b[1,0,0], '\\n')\n",
    "\n",
    "# Para elegir SIMULTANEAMENTE ambos elementos, lo hacemos utilizando dos punto\n",
    "#s\n",
    "print('b[:,0,0] =', b[:,0,0])"
   ]
  },
  {
   "cell_type": "code",
   "execution_count": 20,
   "metadata": {},
   "outputs": [
    {
     "name": "stdout",
     "output_type": "stream",
     "text": [
      "b[0] =\n",
      " [[ 0  1  2  3]\n",
      " [ 4  5  6  7]\n",
      " [ 8  9 10 11]]\n"
     ]
    }
   ],
   "source": [
    "# Si escribimos: b[0]\n",
    "# Habremos elegido el primer bloque, pero habríamos omitido las filas y las columnas\n",
    "# En tal caso, numpy toma todas las filas y columnas del bloque 0\n",
    "print('b[0] =\\n', b[0])\n"
   ]
  },
  {
   "cell_type": "code",
   "execution_count": 21,
   "metadata": {},
   "outputs": [
    {
     "name": "stdout",
     "output_type": "stream",
     "text": [
      "b[0,:,:] =\n",
      " [[ 0  1  2  3]\n",
      " [ 4  5  6  7]\n",
      " [ 8  9 10 11]]\n"
     ]
    }
   ],
   "source": [
    " # Otra forma de representar b[0] es: b[0, :, :]\n",
    "# Los dos puntos sin ningún valor, indican que se utilizarán todos los términos disponibles\n",
    "# En este caso, todas las filas y todas las columnas\n",
    "print('b[0,:,:] =\\n', b[0,:,:])"
   ]
  },
  {
   "cell_type": "code",
   "execution_count": 23,
   "metadata": {},
   "outputs": [
    {
     "name": "stdout",
     "output_type": "stream",
     "text": [
      "b[0, ...] =\n",
      " [[ 0  1  2  3]\n",
      " [ 4  5  6  7]\n",
      " [ 8  9 10 11]]\n"
     ]
    }
   ],
   "source": [
    "# Cuando se utiliza la notación de : a derecha o a izquierda, se puede reemplazar por ...\n",
    "# El ejemplo anterior se puede escribir así:\n",
    "\n",
    "print('b[0, ...] =\\n', b[0, ...])\n"
   ]
  },
  {
   "cell_type": "code",
   "execution_count": 24,
   "metadata": {},
   "outputs": [
    {
     "name": "stdout",
     "output_type": "stream",
     "text": [
      "b[0,1] = [4 5 6 7]\n"
     ]
    }
   ],
   "source": [
    " # Si queremos la fila 1 en el bloque 0 (sin que importen las columnas), se tiene:\n",
    "print('b[0,1] =', b[0,1])\n"
   ]
  },
  {
   "cell_type": "code",
   "execution_count": 25,
   "metadata": {},
   "outputs": [
    {
     "name": "stdout",
     "output_type": "stream",
     "text": [
      "z = [4 5 6 7] \n",
      "\n",
      "z[::2] = [4 6]\n"
     ]
    }
   ],
   "source": [
    " # El resultado de una selección puede utilizar luego para un cálculo posterior\n",
    "# Se obtiene la fila 1 del bloque 0 (como en ejemplo anterior)\n",
    "# y se asigna dicha respuesta a la variable z\n",
    "z = b[0,1]\n",
    "print('z =', z, '\\n')\n",
    "# En este caso, la variable z toma el valor: [4 5 6 7]\n",
    "# Si ahora queremos tomar de dicha respuesta los valores de 2 en 2, se tiene:\n",
    "print('z[::2] =', z[::2])"
   ]
  },
  {
   "cell_type": "code",
   "execution_count": 26,
   "metadata": {},
   "outputs": [
    {
     "name": "stdout",
     "output_type": "stream",
     "text": [
      "b[0,1,::2] = [4 6]\n"
     ]
    }
   ],
   "source": [
    "# El ejercicio anterior se puede combinar en una expresión única, así:\n",
    "print('b[0,1,::2] =', b[0,1,::2])\n",
    "# Esta es una solución más compacta"
   ]
  },
  {
   "cell_type": "code",
   "execution_count": 27,
   "metadata": {},
   "outputs": [
    {
     "name": "stdout",
     "output_type": "stream",
     "text": [
      "[[[ 0  1  2  3]\n",
      "  [ 4  5  6  7]\n",
      "  [ 8  9 10 11]]\n",
      "\n",
      " [[12 13 14 15]\n",
      "  [16 17 18 19]\n",
      "  [20 21 22 23]]] \n",
      "\n",
      "b[:,:,1] =\n",
      " [[ 1  5  9]\n",
      " [13 17 21]] \n",
      "\n",
      "b[...,1] =\n",
      " [[ 1  5  9]\n",
      " [13 17 21]]\n"
     ]
    }
   ],
   "source": [
    "# Imprime todas las columnas, independientemente de los bloques y filas\n",
    "print(b, '\\n')\n",
    "print('b[:,:,1] =\\n', b[:,:,1], '\\n')\n",
    "\n",
    "# Variante de notación (simplificada)\n",
    "print('b[...,1] =\\n', b[...,1])"
   ]
  },
  {
   "cell_type": "code",
   "execution_count": 28,
   "metadata": {},
   "outputs": [
    {
     "name": "stdout",
     "output_type": "stream",
     "text": [
      "[[[ 0  1  2  3]\n",
      "  [ 4  5  6  7]\n",
      "  [ 8  9 10 11]]\n",
      "\n",
      " [[12 13 14 15]\n",
      "  [16 17 18 19]\n",
      "  [20 21 22 23]]] \n",
      "\n",
      "b[:,1] = [[ 4  5  6  7]\n",
      " [16 17 18 19]]\n"
     ]
    }
   ],
   "source": [
    " # Si queremos seleccionar todas las filas 2, independientemente\n",
    "# de los bloques y columnas, se tiene:\n",
    "\n",
    "print(b, '\\n')\n",
    "print('b[:,1] =', b[:,1])\n",
    "\n",
    "# Puesto que no se menciona en la notación las columnas, se toman todos\n",
    "# los valores según corresponda"
   ]
  },
  {
   "cell_type": "code",
   "execution_count": 29,
   "metadata": {},
   "outputs": [
    {
     "name": "stdout",
     "output_type": "stream",
     "text": [
      "[[[ 0  1  2  3]\n",
      "  [ 4  5  6  7]\n",
      "  [ 8  9 10 11]]\n",
      "\n",
      " [[12 13 14 15]\n",
      "  [16 17 18 19]\n",
      "  [20 21 22 23]]] \n",
      "\n",
      "b[0,:,1] = [1 5 9]\n"
     ]
    }
   ],
   "source": [
    "# En el siguiente ejemplo seleccionmos la columna 1 del bloque 0\n",
    "\n",
    "print(b, '\\n')\n",
    "print('b[0,:,1] =', b[0,:,1])"
   ]
  },
  {
   "cell_type": "code",
   "execution_count": 30,
   "metadata": {},
   "outputs": [
    {
     "name": "stdout",
     "output_type": "stream",
     "text": [
      "b[0,:,-1] = [ 3  7 11]\n",
      "b[0, ::-1, -1] = [11  7  3]\n",
      "b[0, ::2, -1] = [ 3 11]\n"
     ]
    }
   ],
   "source": [
    "# Si queremos seleccionar la última columna del primer bloque, tenemos:\n",
    "print('b[0,:,-1] =', b[0,:,-1])\n",
    "# Podemos observar lo siguiente: entre corchetes encontramos tres valores\n",
    "# El primero, el cero, selecciona el primer bloque\n",
    "# El tercero, -1, se encarga de seleccionar la última columna\n",
    "# Los dos puntos, en la segunda posición, SELECCIONAN todos los\n",
    "# componentes de lad FILAS, que FORMARÁN PARTE de dicha COLUMNA\n",
    "# Dado que los dos puntos definen todos los valores de las FILAS en\n",
    "# una columna específica, si quisieramos que DICHOS VALORES estuvieran\n",
    "# en orden inverso, ejecutaríamos la instrucción\n",
    "print('b[0, ::-1, -1] =', b[0, ::-1, -1])\n",
    "# La expresión ::-1 invierte todos los valores que se hubieran seleccionado\n",
    "# Si en lugar de invertir la columna, quisieramos imprimir sus\n",
    "# valores de 2 en 2, tendríamos:\n",
    "print('b[0, ::2, -1] =', b[0, ::2, -1])\n"
   ]
  },
  {
   "cell_type": "code",
   "execution_count": 31,
   "metadata": {},
   "outputs": [
    {
     "name": "stdout",
     "output_type": "stream",
     "text": [
      "[[[ 0  1  2  3]\n",
      "  [ 4  5  6  7]\n",
      "  [ 8  9 10 11]]\n",
      "\n",
      " [[12 13 14 15]\n",
      "  [16 17 18 19]\n",
      "  [20 21 22 23]]] \n",
      "-----------------------\n",
      "\n",
      "[[[12 13 14 15]\n",
      "  [16 17 18 19]\n",
      "  [20 21 22 23]]\n",
      "\n",
      " [[ 0  1  2  3]\n",
      "  [ 4  5  6  7]\n",
      "  [ 8  9 10 11]]]\n"
     ]
    }
   ],
   "source": [
    "# El array original\n",
    "print(b, '\\n-----------------------\\n')\n",
    "# Esta instrucción invierte los bloques\n",
    "print(b[::-1])"
   ]
  },
  {
   "cell_type": "code",
   "execution_count": 32,
   "metadata": {},
   "outputs": [
    {
     "name": "stdout",
     "output_type": "stream",
     "text": [
      "Matriz b =\n",
      " [[[ 0  1  2  3]\n",
      "  [ 4  5  6  7]\n",
      "  [ 8  9 10 11]]\n",
      "\n",
      " [[12 13 14 15]\n",
      "  [16 17 18 19]\n",
      "  [20 21 22 23]]] \n",
      "--------------------------\n",
      "\n",
      "Vector b = \n",
      " [ 0  1  2  3  4  5  6  7  8  9 10 11 12 13 14 15 16 17 18 19 20 21 22 23]\n"
     ]
    }
   ],
   "source": [
    "# La instrucción: ravel(), de-construye el efecto de la instrucción: reshape\n",
    "# Este es el array b en su estado matricial\n",
    "\n",
    "print('Matriz b =\\n', b, '\\n--------------------------\\n')\n",
    "# Con ravel() se genera un vector a partir de la matriz\n",
    "print('Vector b = \\n', b.ravel())"
   ]
  },
  {
   "cell_type": "code",
   "execution_count": 33,
   "metadata": {},
   "outputs": [
    {
     "name": "stdout",
     "output_type": "stream",
     "text": [
      "Vector b con flatten =\n",
      " [ 0  1  2  3  4  5  6  7  8  9 10 11 12 13 14 15 16 17 18 19 20 21 22 23]\n"
     ]
    }
   ],
   "source": [
    "# La instrucción: flatten() es similar a ravel()\n",
    "# La diferencia es que flatten genera un nuevo espacio de memoria\n",
    "\n",
    "print('Vector b con flatten =\\n', b.flatten())"
   ]
  },
  {
   "cell_type": "code",
   "execution_count": 35,
   "metadata": {},
   "outputs": [
    {
     "name": "stdout",
     "output_type": "stream",
     "text": [
      "b(6x4) =\n",
      " [[ 0  1  2  3]\n",
      " [ 4  5  6  7]\n",
      " [ 8  9 10 11]\n",
      " [12 13 14 15]\n",
      " [16 17 18 19]\n",
      " [20 21 22 23]]\n"
     ]
    }
   ],
   "source": [
    "# Se puede cambiar la estructura de una matriz con la instrucción: shape\n",
    "# Transformamos la matriz en 6 filas x 4 columnas\n",
    "b.shape = (6,4)\n",
    "print('b(6x4) =\\n', b)"
   ]
  },
  {
   "cell_type": "code",
   "execution_count": 36,
   "metadata": {},
   "outputs": [
    {
     "name": "stdout",
     "output_type": "stream",
     "text": [
      "b =\n",
      " [[ 0  1  2  3]\n",
      " [ 4  5  6  7]\n",
      " [ 8  9 10 11]\n",
      " [12 13 14 15]\n",
      " [16 17 18 19]\n",
      " [20 21 22 23]] \n",
      "------------------------\n",
      "\n",
      "Transpuesta de b =\n",
      " [[ 0  4  8 12 16 20]\n",
      " [ 1  5  9 13 17 21]\n",
      " [ 2  6 10 14 18 22]\n",
      " [ 3  7 11 15 19 23]] \n",
      "------------------------\n",
      "\n"
     ]
    }
   ],
   "source": [
    "# A partir de la matriz que acaba de ser generada, vamos a mostrar\n",
    "# como se construye la transpuesta de la matriz\n",
    "# Matriz original\n",
    "print('b =\\n', b, '\\n------------------------\\n')\n",
    "# Matri transpuesta\n",
    "print('Transpuesta de b =\\n', b.transpose(), '\\n------------------------\\n')"
   ]
  },
  {
   "cell_type": "code",
   "execution_count": 38,
   "metadata": {},
   "outputs": [
    {
     "name": "stdout",
     "output_type": "stream",
     "text": [
      "b =\n",
      " [[ 0  1  2  3  4  5  6  7  8  9 10 11]\n",
      " [12 13 14 15 16 17 18 19 20 21 22 23]]\n"
     ]
    }
   ],
   "source": [
    "# Para concluir este primer módulo de numpy, mostraremos que la instrucción\n",
    "# resize, ejecuta una labor similar a reshape\n",
    "# La diferencia está en que resize altera la estructura del array\n",
    "# En cambio reshape crea una copia del original, razón por la cual en\n",
    "# reshape se debe asignar el resultado a una nueva variable\n",
    "# Se cambia la estructura del array b\n",
    "b.resize([2,12])\n",
    "# Al imprimir el array b, se observa que su estructura ha cambiado\n",
    "print('b =\\n', b)"
   ]
  },
  {
   "cell_type": "code",
   "execution_count": null,
   "metadata": {},
   "outputs": [],
   "source": []
  }
 ],
 "metadata": {
  "kernelspec": {
   "display_name": "Python 3",
   "language": "python",
   "name": "python3"
  },
  "language_info": {
   "codemirror_mode": {
    "name": "ipython",
    "version": 3
   },
   "file_extension": ".py",
   "mimetype": "text/x-python",
   "name": "python",
   "nbconvert_exporter": "python",
   "pygments_lexer": "ipython3",
   "version": "3.8.3"
  }
 },
 "nbformat": 4,
 "nbformat_minor": 4
}
