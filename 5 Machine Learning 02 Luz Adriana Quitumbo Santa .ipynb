{
 "cells": [
  {
   "cell_type": "code",
   "execution_count": null,
   "metadata": {},
   "outputs": [],
   "source": [
    "# COMPUTACIÓN BLANDA - Sistemas y Computación\n",
    "# ------------------------------------------- # Introducción anumpy # ------------------------------------------- # Lección 02\n",
    "## ** Técnicas de apilamiento # ** División de arrays #** Propiedades de arrays ##\n",
    "#Luz Adriana Quitumbo Santa"
   ]
  },
  {
   "cell_type": "code",
   "execution_count": 9,
   "metadata": {
    "scrolled": true
   },
   "outputs": [
    {
     "name": "stdout",
     "output_type": "stream",
     "text": [
      "a=\n",
      " [[0 1 2]\n",
      " [3 4 5]\n",
      " [6 7 8]] \n",
      "\n",
      "b =\n",
      " [[ 0  2  4]\n",
      " [ 6  8 10]\n",
      " [12 14 16]]\n"
     ]
    }
   ],
   "source": [
    " # Primero se importa la librería numpy\n",
    "    \n",
    "import numpy as np\n",
    "\n",
    "# APILAMIENTO # ----------- # Apilado # Las matrices se pueden apilar horizontalmente, enprofundidad o # verticalmente. Podemos utilizar, para ese propósito, # las funciones vstack,\n",
    "#dstack, hstack, column_stack, row_stack y concatenate.\n",
    "\n",
    "# Para empezar, vamos a crear dos arrays\n",
    "#Matriz a \n",
    "a = np.arange(9).reshape(3,3) \n",
    "print('a=\\n', a, '\\n')\n",
    "                                \n",
    "# Matriz b, creada a partir de la matriz a \n",
    "b = a*2\n",
    "print('b =\\n', b)                               \n",
    "# Utilizaremos estas dos matrices para mostrar los mecanismos # deapilamiento disponibles"
   ]
  },
  {
   "cell_type": "code",
   "execution_count": 11,
   "metadata": {},
   "outputs": [
    {
     "name": "stdout",
     "output_type": "stream",
     "text": [
      "a=\n",
      " [[0 1 2]\n",
      " [3 4 5]\n",
      " [6 7 8]] \n",
      "\n",
      "b =\n",
      " [[ 0  2  4]\n",
      " [ 6  8 10]\n",
      " [12 14 16]] \n",
      "\n",
      "Apilamiento horizontal =\n",
      " [[ 0  1  2  0  2  4]\n",
      " [ 3  4  5  6  8 10]\n",
      " [ 6  7  8 12 14 16]]\n"
     ]
    }
   ],
   "source": [
    "# APILAMIENTO HORIZONTAL\n",
    "# Matrices origen \n",
    "print('a=\\n', a, '\\n') \n",
    "print('b =\\n', b,'\\n')\n",
    "# Apilamiento horizontal \n",
    "print('Apilamiento horizontal =\\n',np.hstack((a,b)) )"
   ]
  },
  {
   "cell_type": "code",
   "execution_count": 12,
   "metadata": {},
   "outputs": [
    {
     "name": "stdout",
     "output_type": "stream",
     "text": [
      "a=\n",
      " [[0 1 2]\n",
      " [3 4 5]\n",
      " [6 7 8]] \n",
      "\n",
      "b =\n",
      " [[ 0  2  4]\n",
      " [ 6  8 10]\n",
      " [12 14 16]] \n",
      "\n",
      "Apilamiento horizontal con concatenate = \n",
      " [[ 0  1  2  0  2  4]\n",
      " [ 3  4  5  6  8 10]\n",
      " [ 6  7  8 12 14 16]]\n"
     ]
    }
   ],
   "source": [
    " # APILAMIENTO HORIZONTAL - Variante\n",
    "# Utilización de la función: concatenate()\n",
    "# Matrices origen \n",
    "print('a=\\n', a, '\\n')\n",
    "print('b =\\n', b,'\\n')\n",
    "\n",
    "# Apilamiento horizontal \n",
    "print( 'Apilamiento horizontal con concatenate = \\n',np.concatenate((a,b), axis=1) )\n",
    "# Si axis=1, el apilamiento es horizontal"
   ]
  },
  {
   "cell_type": "code",
   "execution_count": 15,
   "metadata": {},
   "outputs": [
    {
     "name": "stdout",
     "output_type": "stream",
     "text": [
      "a=\n",
      " [[0 1 2]\n",
      " [3 4 5]\n",
      " [6 7 8]] \n",
      "\n",
      "b =\n",
      " [[ 0  2  4]\n",
      " [ 6  8 10]\n",
      " [12 14 16]] \n",
      "\n",
      "Apilamiento vertical =\n",
      " [[ 0  1  2]\n",
      " [ 3  4  5]\n",
      " [ 6  7  8]\n",
      " [ 0  2  4]\n",
      " [ 6  8 10]\n",
      " [12 14 16]]\n"
     ]
    }
   ],
   "source": [
    "# APILAMIENTO VERTICAL\n",
    "# Matrices origen \n",
    "print('a=\\n', a, '\\n') \n",
    "print('b =\\n', b,'\\n')\n",
    "# Apilamiento vertical \n",
    "print( 'Apilamiento vertical =\\n',np.vstack((a,b)) )"
   ]
  },
  {
   "cell_type": "code",
   "execution_count": 16,
   "metadata": {},
   "outputs": [
    {
     "name": "stdout",
     "output_type": "stream",
     "text": [
      "a=\n",
      " [[0 1 2]\n",
      " [3 4 5]\n",
      " [6 7 8]] \n",
      "\n",
      "b =\n",
      " [[ 0  2  4]\n",
      " [ 6  8 10]\n",
      " [12 14 16]] \n",
      "\n",
      "Apilamiento vertical con concatenate =\n",
      " [[ 0  1  2]\n",
      " [ 3  4  5]\n",
      " [ 6  7  8]\n",
      " [ 0  2  4]\n",
      " [ 6  8 10]\n",
      " [12 14 16]]\n"
     ]
    }
   ],
   "source": [
    "# APILAMIENTO VERTICAL - Variante\n",
    "# Utilización de la función: concatenate()\n",
    "# Matrices origen \n",
    "print('a=\\n', a, '\\n') \n",
    "print('b =\\n', b,'\\n')\n",
    "# Apilamiento vertical \n",
    "print( 'Apilamiento vertical con concatenate =\\n',np.concatenate((a,b), axis=0) )"
   ]
  },
  {
   "cell_type": "code",
   "execution_count": 18,
   "metadata": {},
   "outputs": [
    {
     "name": "stdout",
     "output_type": "stream",
     "text": [
      "a=\n",
      " [[0 1 2]\n",
      " [3 4 5]\n",
      " [6 7 8]] \n",
      "\n",
      "b =\n",
      " [[ 0  2  4]\n",
      " [ 6  8 10]\n",
      " [12 14 16]] \n",
      "\n",
      "Apilamiento en profundidad =\n",
      " [[[ 0  0]\n",
      "  [ 1  2]\n",
      "  [ 2  4]]\n",
      "\n",
      " [[ 3  6]\n",
      "  [ 4  8]\n",
      "  [ 5 10]]\n",
      "\n",
      " [[ 6 12]\n",
      "  [ 7 14]\n",
      "  [ 8 16]]]\n"
     ]
    }
   ],
   "source": [
    "# APILAMIENTO EN PROFUNDIDAD\n",
    "# En el apilamiento en profundidad, se crean bloques utilizando # parejas de datos tomados de las dos matrices\n",
    "# Matrices origen \n",
    "print('a=\\n', a, '\\n') \n",
    "print('b =\\n', b,'\\n')\n",
    "# Apilamiento en profundidad \n",
    "print( 'Apilamiento en profundidad =\\n',np.dstack((a,b)) )"
   ]
  },
  {
   "cell_type": "code",
   "execution_count": 19,
   "metadata": {},
   "outputs": [
    {
     "name": "stdout",
     "output_type": "stream",
     "text": [
      "a=\n",
      " [[0 1 2]\n",
      " [3 4 5]\n",
      " [6 7 8]] \n",
      "\n",
      "b =\n",
      " [[ 0  2  4]\n",
      " [ 6  8 10]\n",
      " [12 14 16]] \n",
      "\n",
      "Apilamiento por columnas =\n",
      " [[ 0  1  2  0  2  4]\n",
      " [ 3  4  5  6  8 10]\n",
      " [ 6  7  8 12 14 16]]\n"
     ]
    }
   ],
   "source": [
    "# APILAMIENTO POR COLUMNAS\n",
    "# El apilamiento por columnas es similar a hstack()\n",
    "# Se apilan las columnas, de izquierda a derecha, y tomándolas # de los bloques definidos en la matriz\n",
    "# Matrices origen \n",
    "print('a=\\n', a, '\\n') \n",
    "print('b =\\n', b,'\\n')\n",
    "# Apilamiento vertical\n",
    "print( 'Apilamiento por columnas =\\n',np.column_stack((a,b)) )"
   ]
  },
  {
   "cell_type": "code",
   "execution_count": 20,
   "metadata": {},
   "outputs": [
    {
     "name": "stdout",
     "output_type": "stream",
     "text": [
      "a=\n",
      " [[0 1 2]\n",
      " [3 4 5]\n",
      " [6 7 8]] \n",
      "\n",
      "b =\n",
      " [[ 0  2  4]\n",
      " [ 6  8 10]\n",
      " [12 14 16]] \n",
      "\n",
      "Apilamiento por filas =\n",
      " [[ 0  1  2]\n",
      " [ 3  4  5]\n",
      " [ 6  7  8]\n",
      " [ 0  2  4]\n",
      " [ 6  8 10]\n",
      " [12 14 16]]\n"
     ]
    }
   ],
   "source": [
    "# APILAMIENTO POR FILAS\n",
    "# El apilamiento por fila es similar a vstack()\n",
    "# Se apilan las filas, de arriba hacia abajo, y tomándolas # de los bloques definidos en la matriz\n",
    "# Matrices origen \n",
    "print('a=\\n', a, '\\n') \n",
    "print('b =\\n', b,'\\n')\n",
    "# Apilamiento vertical \n",
    "print( 'Apilamiento por filas =\\n',np.row_stack((a,b)) )"
   ]
  },
  {
   "cell_type": "code",
   "execution_count": 21,
   "metadata": {},
   "outputs": [
    {
     "name": "stdout",
     "output_type": "stream",
     "text": [
      "[[0 1 2]\n",
      " [3 4 5]\n",
      " [6 7 8]] \n",
      "\n",
      "Array con división horizontal =\n",
      " [array([[0],\n",
      "       [3],\n",
      "       [6]]), array([[1],\n",
      "       [4],\n",
      "       [7]]), array([[2],\n",
      "       [5],\n",
      "       [8]])] \n",
      "\n",
      "Array con división horizontal, uso de split() =\n",
      " [array([[0],\n",
      "       [3],\n",
      "       [6]]), array([[1],\n",
      "       [4],\n",
      "       [7]]), array([[2],\n",
      "       [5],\n",
      "       [8]])]\n"
     ]
    }
   ],
   "source": [
    " # DIVISIÓN DE ARRAYS\n",
    "# Las matrices se pueden dividir vertical, horizontalmente o en profundidad. \n",
    "# Las funciones involucradas son hsplit, vsplit, dsplit y split. \n",
    "# Podemos hacer divisiones de las matricesutilizando su estructura inicial \n",
    "# o hacerlo indicando la posición después de la cual debe ocurrirla división\n",
    " # DIVISIÓN HORIZONTAL\n",
    "print(a, '\\n')\n",
    "# El código resultante divide una matriz a lo largo de su eje horizontal # en tres piezas del mismo tamaño y forma:}\n",
    " print('Array con división horizontal =\\n', np.hsplit(a, 3), '\\n')\n",
    "# El mismo efecto se consigue con split() y utilizando una bandera a 1 \n",
    "print('Array con división horizontal, uso de split() =\\n',np.split(a, 3, axis=1))\n",
    "\n"
   ]
  },
  {
   "cell_type": "code",
   "execution_count": 23,
   "metadata": {},
   "outputs": [
    {
     "name": "stdout",
     "output_type": "stream",
     "text": [
      "[[0 1 2]\n",
      " [3 4 5]\n",
      " [6 7 8]] \n",
      "\n",
      "División Vertical = \n",
      " [array([[0, 1, 2]]), array([[3, 4, 5]]), array([[6, 7, 8]])] \n",
      "\n",
      "Array con división vertical, uso de split() =\n",
      " [array([[0, 1, 2]]), array([[3, 4, 5]]), array([[6, 7, 8]])]\n"
     ]
    }
   ],
   "source": [
    " # DIVISIÓN VERTICAL\n",
    "print(a, '\\n')\n",
    "# La función vsplit divide el array a lo largo del eje vertical:\n",
    "print('División Vertical = \\n', np.vsplit(a, 3), '\\n')\n",
    "# El mismo efecto se consigue con split() y utilizando una bandera a 0 \n",
    "print('Array con división vertical, uso de split() =\\n',\n",
    "np.split(a, 3, axis=0))"
   ]
  },
  {
   "cell_type": "code",
   "execution_count": 24,
   "metadata": {},
   "outputs": [
    {
     "name": "stdout",
     "output_type": "stream",
     "text": [
      "[[[ 0  1  2]\n",
      "  [ 3  4  5]\n",
      "  [ 6  7  8]]\n",
      "\n",
      " [[ 9 10 11]\n",
      "  [12 13 14]\n",
      "  [15 16 17]]\n",
      "\n",
      " [[18 19 20]\n",
      "  [21 22 23]\n",
      "  [24 25 26]]] \n",
      "\n",
      "División en profundidad =\n",
      " [array([[[ 0],\n",
      "        [ 3],\n",
      "        [ 6]],\n",
      "\n",
      "       [[ 9],\n",
      "        [12],\n",
      "        [15]],\n",
      "\n",
      "       [[18],\n",
      "        [21],\n",
      "        [24]]]), array([[[ 1],\n",
      "        [ 4],\n",
      "        [ 7]],\n",
      "\n",
      "       [[10],\n",
      "        [13],\n",
      "        [16]],\n",
      "\n",
      "       [[19],\n",
      "        [22],\n",
      "        [25]]]), array([[[ 2],\n",
      "        [ 5],\n",
      "        [ 8]],\n",
      "\n",
      "       [[11],\n",
      "        [14],\n",
      "        [17]],\n",
      "\n",
      "       [[20],\n",
      "        [23],\n",
      "        [26]]])] \n",
      "\n"
     ]
    }
   ],
   "source": [
    " # DIVISIÓN EN PROFUNDIDAD\n",
    "# La función dsplit, como era de esperarse, realiza división # en profundidad dentro del array\n",
    "# Para ilustrar con un ejemplo, utilizaremos una matriz de rango tres \n",
    "c =np.arange(27).reshape(3, 3, 3)\n",
    "print(c, '\\n')\n",
    "# Se realiza la división \n",
    "print('División en profundidad =\\n', np.dsplit(c,3),'\\n')"
   ]
  },
  {
   "cell_type": "code",
   "execution_count": 26,
   "metadata": {},
   "outputs": [
    {
     "name": "stdout",
     "output_type": "stream",
     "text": [
      "[[ 0  2  4]\n",
      " [ 6  8 10]\n",
      " [12 14 16]] \n",
      "\n",
      "ndim:  2\n"
     ]
    }
   ],
   "source": [
    "# PROPIEDADES DE LOS ARRAYS\n",
    " # El atributo ndim calcula el número de dimensiones\n",
    "print(b, '\\n') \n",
    "print('ndim: ',b.ndim)\n"
   ]
  },
  {
   "cell_type": "code",
   "execution_count": 27,
   "metadata": {},
   "outputs": [
    {
     "name": "stdout",
     "output_type": "stream",
     "text": [
      "[[ 0  2  4]\n",
      " [ 6  8 10]\n",
      " [12 14 16]] \n",
      "\n",
      "size:  9\n"
     ]
    }
   ],
   "source": [
    " # El atributo size calcula el número de elementos\n",
    "print(b, '\\n') \n",
    "print('size: ',\n",
    "b.size)\n"
   ]
  },
  {
   "cell_type": "code",
   "execution_count": 28,
   "metadata": {},
   "outputs": [
    {
     "name": "stdout",
     "output_type": "stream",
     "text": [
      "itemsize:  4\n"
     ]
    }
   ],
   "source": [
    "# El atributo itemsize obtiene el número de bytes por cada\n",
    "# elemento en el array\n",
    "print('itemsize: ', b.itemsize)"
   ]
  },
  {
   "cell_type": "code",
   "execution_count": 29,
   "metadata": {},
   "outputs": [
    {
     "name": "stdout",
     "output_type": "stream",
     "text": [
      "[[ 0  2  4]\n",
      " [ 6  8 10]\n",
      " [12 14 16]] \n",
      "\n",
      "nbytes:  36 \n",
      "\n"
     ]
    }
   ],
   "source": [
    " # El atributo nbytes calcula el número total de bytes del array\n",
    "print(b, '\\n')\n",
    "print('nbytes: ', b.nbytes, '\\n')"
   ]
  },
  {
   "cell_type": "code",
   "execution_count": 30,
   "metadata": {},
   "outputs": [
    {
     "name": "stdout",
     "output_type": "stream",
     "text": [
      "nbytes equivalente:  36\n"
     ]
    }
   ],
   "source": [
    "# Es equivalente a la siguiente operación \n",
    "print('nbytes equivalente: ', b.size * b.itemsize)"
   ]
  },
  {
   "cell_type": "code",
   "execution_count": 31,
   "metadata": {},
   "outputs": [
    {
     "name": "stdout",
     "output_type": "stream",
     "text": [
      "[[ 0  2  4  6]\n",
      " [ 8 10 12 14]\n",
      " [16  0  0  0]\n",
      " [ 0  0  0  0]\n",
      " [ 0  0  0  0]\n",
      " [ 0  0  0  0]] \n",
      "\n",
      "Transpuesta:  [[ 0  8 16  0  0  0]\n",
      " [ 2 10  0  0  0  0]\n",
      " [ 4 12  0  0  0  0]\n",
      " [ 6 14  0  0  0  0]]\n"
     ]
    }
   ],
   "source": [
    "# El atributo T tiene el mismo efecto que la transpuesta de la matriz\n",
    "b.resize(6,4)\n",
    "print(b, '\\n')\n",
    "print('Transpuesta: ', b.T)"
   ]
  },
  {
   "cell_type": "code",
   "execution_count": 32,
   "metadata": {},
   "outputs": [
    {
     "name": "stdout",
     "output_type": "stream",
     "text": [
      "Complejo: \n",
      " [1.+1.j 3.+2.j]\n"
     ]
    }
   ],
   "source": [
    " # Los números complejos en numpy se representan con j\n",
    "b = np.array([1.j + 1, 2.j + 3])\n",
    "print('Complejo: \\n', b)"
   ]
  },
  {
   "cell_type": "code",
   "execution_count": 33,
   "metadata": {},
   "outputs": [
    {
     "name": "stdout",
     "output_type": "stream",
     "text": [
      "real:  [1. 3.] \n",
      "\n",
      "imaginario:  [1. 2.]\n"
     ]
    }
   ],
   "source": [
    "# El atributo real nos da la parte real del array,\n",
    "# o el array en sí mismo si solo contiene números reales\n",
    "print('real: ', b.real, '\\n')\n",
    "# El atributo imag contiene la parte imaginaria del array\n",
    "print('imaginario: ', b.imag)\n"
   ]
  },
  {
   "cell_type": "code",
   "execution_count": 34,
   "metadata": {},
   "outputs": [
    {
     "name": "stdout",
     "output_type": "stream",
     "text": [
      "complex128\n"
     ]
    }
   ],
   "source": [
    "# Si el array contiene números complejos, entonces el tipo de datos\n",
    "# se convierte automáticamente a complejo\n",
    "print(b.dtype)\n"
   ]
  },
  {
   "cell_type": "code",
   "execution_count": 56,
   "metadata": {},
   "outputs": [
    {
     "ename": "SyntaxError",
     "evalue": "invalid syntax (<ipython-input-56-9f872a2b5703>, line 12)",
     "output_type": "error",
     "traceback": [
      "\u001b[1;36m  File \u001b[1;32m\"<ipython-input-56-9f872a2b5703>\"\u001b[1;36m, line \u001b[1;32m12\u001b[0m\n\u001b[1;33m    for itemin f: print (item)\u001b[0m\n\u001b[1;37m               ^\u001b[0m\n\u001b[1;31mSyntaxError\u001b[0m\u001b[1;31m:\u001b[0m invalid syntax\n"
     ]
    }
   ],
   "source": [
    "# El atributo flat devuelve un objeto numpy.flatiter.\n",
    "# Esta es la única forma de adquirir un flatiter: # no tenemos acceso a unconstructor de flatiter. # El apartamento El iterador nos permite recorrer unamatriz # como si fuera una matriz plana, como se muestra a continuación:\n",
    "# En el siguiente ejemplo se clarifica este concepto \n",
    "\n",
    "b = np.arange(4).reshape(2,2)\n",
    "print(b, '\\n') \n",
    "\n",
    "f = b.flat \n",
    "print(f,'\\n')\n",
    "\n",
    "# Ciclo que itera a lo largo de f\n",
    "for itemin f: print (item)\n",
    "    \n",
    "# Selección de un elemento \n",
    "print('\\n')\n",
    "print('Elemento 2: ', b.flat[2])\n",
    "\n",
    "# Operaciones directas con flat \n",
    "\n",
    "b.flat= 7\n",
    "print(b, '\\n')\n",
    "\n",
    "b.flat[[1,3]] = 1 \n",
    "print(b, '\\n')\n"
   ]
  },
  {
   "cell_type": "code",
   "execution_count": null,
   "metadata": {},
   "outputs": [],
   "source": []
  },
  {
   "cell_type": "code",
   "execution_count": null,
   "metadata": {},
   "outputs": [],
   "source": []
  }
 ],
 "metadata": {
  "kernelspec": {
   "display_name": "Python 3",
   "language": "python",
   "name": "python3"
  },
  "language_info": {
   "codemirror_mode": {
    "name": "ipython",
    "version": 3
   },
   "file_extension": ".py",
   "mimetype": "text/x-python",
   "name": "python",
   "nbconvert_exporter": "python",
   "pygments_lexer": "ipython3",
   "version": "3.8.3"
  }
 },
 "nbformat": 4,
 "nbformat_minor": 4
}
